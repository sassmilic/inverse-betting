{
 "cells": [
  {
   "cell_type": "code",
   "execution_count": 22,
   "id": "ed28b433",
   "metadata": {},
   "outputs": [],
   "source": [
    "import matplotlib.pyplot as plt\n",
    "import pandas as pd\n",
    "import seaborn as sns\n",
    "\n",
    "from scipy.stats import binom"
   ]
  },
  {
   "cell_type": "markdown",
   "id": "c103cf5b",
   "metadata": {},
   "source": [
    "Two types of people:\n",
    "- moon phase believers\n",
    "- astro skeptics\n",
    "\n",
    "Note: There's potentially a third: \"reverse\" believers, the ones that think full moon are bottoms and new moons are tops. I predict that these people are not that common."
   ]
  },
  {
   "cell_type": "markdown",
   "id": "dd249cfa",
   "metadata": {},
   "source": [
    "## Question: How do we get astro skeptics to be interested in our system?\n",
    "\n",
    "Well, these people believe that -- in the long run, market predictions based on astrology would behave completely randomly.\n",
    "\n",
    "Let's consider an example. In a year there are approximately 12 new moons and 12 full moons in a year. The astrocrypto hypothesis would be that the new moons and full moon represent local bottoms and local tops, respectively. Let this be hypothesis H1. A skeptic would deny this and would think the market would behave entirely randomly. Let this be hypothesis H0.\n",
    "\n",
    "Let's consider these two hypotheses as answers to the question: **In the next 12 moon cycles, how many astrocrypto predictions will prove correct?**"
   ]
  },
  {
   "cell_type": "markdown",
   "id": "3448cf73",
   "metadata": {},
   "source": [
    "### Binomial distribution\n",
    "\n",
    "A bit of a preamble ... Smart respondees to the question would realize they are best to use a [binomial distribution](https://en.wikipedia.org/wiki/Binomial_distribution) to answer their question, where $n = 24$ (12 new moons and 12 full moons) and $p$ represents the probability (their belief) that any given call is correct. Let our skeptic pick $p = 0.5$ and let our believer pick $p = 0.75$.\n",
    "\n",
    "Say the skeptic and the believer are allowed to pick three values for their prediction. "
   ]
  },
  {
   "cell_type": "markdown",
   "id": "3a337634",
   "metadata": {},
   "source": [
    "The *skeptic* would select values 10-14 with 46% confidence that they are correct."
   ]
  },
  {
   "cell_type": "code",
   "execution_count": 15,
   "id": "325fb212",
   "metadata": {},
   "outputs": [
    {
     "data": {
      "text/plain": [
       "0.45874381065368697"
      ]
     },
     "execution_count": 15,
     "metadata": {},
     "output_type": "execute_result"
    }
   ],
   "source": [
    "sum(binom(24, 0.5).pmf(k) for k in range(11, 13+1))"
   ]
  },
  {
   "cell_type": "markdown",
   "id": "1d75b0e3",
   "metadata": {},
   "source": [
    "The *believer* would select values 17-19 with 52% confidence that they are correct."
   ]
  },
  {
   "cell_type": "code",
   "execution_count": 16,
   "id": "4fd95bde",
   "metadata": {},
   "outputs": [
    {
     "data": {
      "text/plain": [
       "0.5195557282383023"
      ]
     },
     "execution_count": 16,
     "metadata": {},
     "output_type": "execute_result"
    }
   ],
   "source": [
    "sum(binom(24, 0.75).pmf(k) for k in range(17, 19+1))"
   ]
  },
  {
   "cell_type": "markdown",
   "id": "66ed54df",
   "metadata": {},
   "source": [
    "In general, the confidence of any of their predictions looks like this:"
   ]
  },
  {
   "cell_type": "code",
   "execution_count": 38,
   "id": "081304ad",
   "metadata": {},
   "outputs": [
    {
     "data": {
      "image/png": "[encoded data removed]",
      "text/plain": [
       "<Figure size 1080x360 with 2 Axes>"
      ]
     },
     "metadata": {
      "needs_background": "light"
     },
     "output_type": "display_data"
    }
   ],
   "source": [
    "df = pd.DataFrame({\n",
    "    'p=0.50': [binom(24, 0.5).pmf(k) for k in range(0, 24+1)],\n",
    "    'p=0.75': [binom(24, 0.75).pmf(k) for k in range(0, 24+1)]\n",
    "})\n",
    "\n",
    "fig, (ax1, ax2) = plt.subplots(1, 2, figsize=(15, 5))\n",
    "fig.suptitle('...')\n",
    "\n",
    "sns.barplot(data=df, x=df.index, y=\"p=0.50\", ax=ax1)\n",
    "sns.barplot(data=df, x=df.index, y=\"p=0.75\", ax=ax2);"
   ]
  },
  {
   "cell_type": "markdown",
   "id": "90b35416",
   "metadata": {},
   "source": [
    "## Prediction market"
   ]
  },
  {
   "cell_type": "markdown",
   "id": "5137b8e4",
   "metadata": {},
   "source": [
    "Note that a prediction market built around the question above would look like the left chart *if only skeptics were betting* and would look like the chart on the right *if only believers were betting*. (The extreme values would be the few people of each type betting on an anomaly.)\n",
    "\n",
    "Much more interestingly, what if the prediction market consisted of 50% believers and 50% skeptics? It would look something like this:"
   ]
  },
  {
   "cell_type": "code",
   "execution_count": 51,
   "id": "36e41c1d",
   "metadata": {},
   "outputs": [
    {
     "data": {
      "image/png": "[encoded data removed]",
      "text/plain": [
       "<Figure size 432x288 with 1 Axes>"
      ]
     },
     "metadata": {
      "needs_background": "light"
     },
     "output_type": "display_data"
    }
   ],
   "source": [
    "df2 = pd.DataFrame((df['p=0.50'].values + df['p=0.75'].values) / 2)\n",
    "sns.barplot(data=df2, x=df.index, y=0);"
   ]
  },
  {
   "cell_type": "markdown",
   "id": "fdfe7eca",
   "metadata": {},
   "source": [
    "**Battle between skeptics and believers!**"
   ]
  },
  {
   "cell_type": "markdown",
   "id": "284fbaf1",
   "metadata": {},
   "source": [
    "### Prediction market details:\n",
    "\n",
    "- People would make a bet that represents:\n",
    "    - (1) their belief in the astrological prediction's accuracy\n",
    "    - (2) risk profile\n",
    "    - Note that the user can directly compute their risk using the binomial distribution, what they believe $p$ to be, and how confident they are in their chosen $p$.\n",
    "    \n",
    "\n",
    "- Users get paid out throughout the year.\n",
    "    - Consider: If a believer $B$ thinks all predictions will be accurate with high confidence, they would bet on 24 (correct predictions). Assuming the first prediction of the year (WLOG full moon bottom) fails, then $B$'s bet loses automatically. $B$'s stake would be distributed to all users betting 0-23.\n",
    "        - Why this is interesting: A user would not have to wait until the end of the year to see payouts from their bet.\n",
    "        \n",
    "- You might say: As we get closer to a full/new moon, we can more easily predict if the call will fail/succeed (using technical analysis, for example).\n",
    "    - We can incentivize people to bet early by making their potential earnings proportional to how early they made the bet. So there's another risk/reward aspect here.\n",
    "\n",
    "- Liquidity mining etc etc\n",
    "\n",
    "\n",
    "#### Concluding thought:\n",
    "I honestly think this would garner users because skeptics would be sure they are correct and thus would be paid out by all the believers betting the right of the distribution. Same for believers. They would be confident that they would be paid out by the skeptics that skew their bets to the center of the distribution.\n",
    "    \n",
    "Note:\n",
    "- This setup can be extended to the context of *any* sequence of \"prophesies\" that would allow believers and skeptics to be pitted against one another."
   ]
  },
  {
   "cell_type": "code",
   "execution_count": null,
   "id": "a2736b34",
   "metadata": {},
   "outputs": [],
   "source": []
  }
 ],
 "metadata": {
  "kernelspec": {
   "display_name": "Python 3 (ipykernel)",
   "language": "python",
   "name": "python3"
  },
  "language_info": {
   "codemirror_mode": {
    "name": "ipython",
    "version": 3
   },
   "file_extension": ".py",
   "mimetype": "text/x-python",
   "name": "python",
   "nbconvert_exporter": "python",
   "pygments_lexer": "ipython3",
   "version": "3.9.7"
  }
 },
 "nbformat": 4,
 "nbformat_minor": 5
}
